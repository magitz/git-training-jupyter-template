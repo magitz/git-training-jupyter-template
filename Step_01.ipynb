{
 "cells": [
  {
   "cell_type": "markdown",
   "metadata": {},
   "source": [
    "# Welcome to your first GitHub Classroom assignment!\n",
    "\n",
    "## Hands-on exercise\n",
    "\n",
    "This exercise is adapted from the [UF Research Computing GitHub Training](https://github.com/UFResearchComputing/git-training), making changes to use GitHub Classrooms as an assignment and transitioning to using JupyterLab and Jupyter Notebooks rather than the Linux command line and text files..\n",
    "\n",
    "This exercise tells the tail of Wolfman and Dracula who are investigating if it is possible to send a planetary lander to Mars.\n",
    "\n",
    "![Cartoon of Wolfman and Dracula](images/motivatingexample.png)[Werewolf vs dracula](https://www.deviantart.com/b-maze/art/Werewolf-vs-Dracula-124893530)\n",
    "by [b-maze](https://www.deviantart.com/b-maze) / [Deviant Art](https://www.deviantart.com/).\n",
    "[Mars](https://en.wikipedia.org/wiki/File:OSIRIS_Mars_true_color.jpg) by European Space Agency /\n",
    "[CC-BY-SA 3.0 IGO](https://creativecommons.org/licenses/by/3.0/deed.en).\n",
    "[Pluto](https://commons.wikimedia.org/wiki/File:PIA19873-Pluto-NewHorizons-FlyingPastImage-20150714-transparent.png) /\n",
    "Courtesy NASA/JPL-Caltech.\n",
    "[Mummy](https://commons.wikimedia.org/wiki/File:Mummy_icon_-_Noun_Project_4070.svg)\n",
    "&copy; Gilad Fried / [The Noun Project](https://thenounproject.com/) /\n",
    "[CC BY 3.0](https://creativecommons.org/licenses/by/3.0/deed.en).\n",
    "[Moon](https://commons.wikimedia.org/wiki/File:Lune_ico.png)\n",
    "&copy; Luc Viatour / [https://lucnix.be](https://lucnix.be/) /\n",
    "[CC BY-SA 3.0](https://creativecommons.org/licenses/by-sa/3.0/deed.en).\n",
    "\n"
   ]
  },
  {
   "cell_type": "markdown",
   "metadata": {},
   "source": [
    "## Creating a Repository\n",
    "\n",
    "**Done!**\n",
    "\n",
    "Yes, it was as easy as accepting the assignment! GitHub makes your own copy of the repository and copies all of the files you need from the template repository. \n",
    "\n",
    "If you want to practice making a repository using GitHub and the command line, check out the original version of this training at [UF Research Computing's git-training repo](https://github.com/UFResearchComputing/git-training)."
   ]
  },
  {
   "cell_type": "markdown",
   "metadata": {},
   "source": [
    "## Cloning the repository within JupyterLab\n",
    "\n",
    "1. Start a Jupyter Lab session. Navigate to a good location, e.g. `blue_rc-workshops/<gatorlink>/` and create a new folder called **Assignments**.\n",
    "1. Navigate into that new, empty folder\n",
    "1. Click on the Git icon in the left-hand toolbar \n",
    "1. Click on the **Clone a Repository** button \n",
    "  ![Screenshot of the Jupyter git panel showing the Clone a Repository button.](images/jupyter_git.png)\n",
    "1. Go back to your Git Repository in your browser and click the **Code** button\n",
    "1. Click the copy icon to copy the text\n",
    "1. Return to Jupyter and Paste the copied URI\n",
    "\n"
   ]
  },
  {
   "cell_type": "markdown",
   "metadata": {},
   "source": [
    "## Working with git\n",
    "\n",
    "Now we have a repository of files that are tracked by git. We have on copy hosted online at GitHub.com and another in our storage on HiPerGator. Right now, the two copies are the same. This exercise will walk you through the process of making files and changes to files and keeping the copies synchronized so that your work in one place shows up in the other place.\n",
    "\n",
    "## Create mars.txt\n",
    "\n",
    "Let's create a file called mars.txt to start adding information about Mars and it's potential for our inter-planetary mission.\n",
    "\n",
    "1. Open the JupyterLab Launcher and scroll down in the launcher to the \"Other\" section and click on \"Text File\".\n",
    "1. Right click on the \"untitled.txt\" file and Rename it to \"mars.txt\".\n",
    "1. Add the following line of text:\n",
    "   > Cold and dry, but everything is my favorite color\n",
    "1. Save the file.\n",
    "1. Look at the Git section of JupyterLab. You will see a section that lists **Untracked** files. These are files that git is not tracking changes on. We want to track changes on the mars.txt, so...\n",
    "1. Select, or mouse over, mars.txt and click the **+ icon** (add) to \"Track this file\".\n",
    "  1. mars.txt has now been moved up to the **Staged** section of Git. This is the same as the command line command: `git add mars.txt`. From now on, any changes to mars.txt will be tracked by git.\n",
    "1. We have staged changes, but not committed them.\n",
    "1. In the bottom of the Git tab, type a summary, and (optional description). Something like: \n",
    "   `Adding mars.txt and info about the weather`\n",
    "1. Click the **Commit** button to commit the changes. This is the sam as the command line command: `git commit -m \"Adding mars.txt and info about the weather\"`\n",
    "1. Notice the orange dot on the \"Push\" icon indicating that you have committed changes locally that have not been pushed to the remote copy on GitHub.com. ![Screenshot of the push icon](images/jupyter_push_icon.png)\n",
    "1. Click the **Push** icon to push your changes to GitHub.com.\n",
    "\n",
    "\n",
    "\n",
    "\n"
   ]
  },
  {
   "cell_type": "markdown",
   "metadata": {},
   "source": [
    "## Make some more changes\n",
    "\n",
    "1. Let's add another line of text to the `mars.txt` file. Edit the file so that it has these two lines:\n",
    "    > Cold and dry, but everything is my favorite color\n",
    "    >\n",
    "    > The two moons may be a problem for \n",
    "1. Save the file, and notice that mars.txt moves to the **Changed** section of the Git tab.\n",
    "1. You can see what has changes with the file using the **diff** icon: ![screenshot of the Jupyter diff icon](images/jupyter_diff_icon.png)\n",
    "   1. Additions will be shown highlighted in green, deletions in red.\n",
    "1. Click the **+ icon** to `git add` the changes and move the mars.txt file to the **Staged** section.\n",
    "1. Commit with a message like: \"Add concerns about effects of Mars' moons on Wolfman\" (again this is the same as `git commit -m \"Add concerns about effects of Mars' moons on Wolfman\"`)\n",
    "1. Push the changes to GitHub.com"
   ]
  },
  {
   "cell_type": "markdown",
   "metadata": {},
   "source": [
    "# Assignments\n",
    "\n",
    "This is one way we will assign work in the Parcticum AI series. Like today, you will get a link to accept the assignment. The assignment will have a README.md file explaining what needs to be done and, most likely, a notebook to get you started. \n",
    "\n",
    "**Clone** the assignment onto HiPerGator, or your working environment, and start working. **Stage** (add) and **commit** your changes as you work. **Push** the changes to GitHub to have a backup and move your changes to where they can be evaluated either automatically or by the instructors. \n",
    "\n",
    "Once finished, you will submit the URL for the repository.\n"
   ]
  }
 ],
 "metadata": {
  "interpreter": {
   "hash": "ac59ebe37160ed0dfa835113d9b8498d9f09ceb179beaac4002f036b9467c963"
  },
  "kernelspec": {
   "display_name": "Python 3.9.7 64-bit",
   "name": "python3"
  },
  "language_info": {
   "name": "python",
   "version": "3.9.7"
  },
  "orig_nbformat": 4
 },
 "nbformat": 4,
 "nbformat_minor": 2
}
