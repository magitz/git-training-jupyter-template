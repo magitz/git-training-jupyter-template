{
 "cells": [
  {
   "cell_type": "markdown",
   "metadata": {},
   "source": [
    "# Welcome to your first GitHub Classroom assignment!\n",
    "\n",
    "## Hands-on exercise\n",
    "\n",
    "This exercise is adapted from the [UF Research Computing GitHub Training](https://github.com/UFResearchComputing/git-training), making changes to use GitHub Classrooms as an assignment and transitioning to using JupyterLab and Jupyter Notebooks rather than the Linux command line and text files..\n",
    "\n",
    "This exercise tells the tail of Wolfman and Dracula who are investigating if it is possible to send a planetary lander to Mars.\n",
    "\n",
    "![Cartoon of Wolfman and Dracula](images/motivatingexample.png)[Werewolf vs dracula](https://www.deviantart.com/b-maze/art/Werewolf-vs-Dracula-124893530)\n",
    "by [b-maze](https://www.deviantart.com/b-maze) / [Deviant Art](https://www.deviantart.com/).\n",
    "[Mars](https://en.wikipedia.org/wiki/File:OSIRIS_Mars_true_color.jpg) by European Space Agency /\n",
    "[CC-BY-SA 3.0 IGO](https://creativecommons.org/licenses/by/3.0/deed.en).\n",
    "[Pluto](https://commons.wikimedia.org/wiki/File:PIA19873-Pluto-NewHorizons-FlyingPastImage-20150714-transparent.png) /\n",
    "Courtesy NASA/JPL-Caltech.\n",
    "[Mummy](https://commons.wikimedia.org/wiki/File:Mummy_icon_-_Noun_Project_4070.svg)\n",
    "&copy; Gilad Fried / [The Noun Project](https://thenounproject.com/) /\n",
    "[CC BY 3.0](https://creativecommons.org/licenses/by/3.0/deed.en).\n",
    "[Moon](https://commons.wikimedia.org/wiki/File:Lune_ico.png)\n",
    "&copy; Luc Viatour / [https://lucnix.be](https://lucnix.be/) /\n",
    "[CC BY-SA 3.0](https://creativecommons.org/licenses/by-sa/3.0/deed.en).\n",
    "\n"
   ]
  },
  {
   "cell_type": "markdown",
   "metadata": {},
   "source": [
    "## Creating a Repository\n",
    "\n",
    "Done!\n",
    "\n",
    "Yes, it was as easy as accepting the assignment! GitHub makes your own copy of the repository and copies all of the files you need from the template repository. \n",
    "\n",
    "If you want to practice making a repository using GitHub and the command line, check out the original version of this training at [UF Research Computing's git-training repo](https://github.com/UFResearchComputing/git-training)."
   ]
  }
 ],
 "metadata": {
  "interpreter": {
   "hash": "ac59ebe37160ed0dfa835113d9b8498d9f09ceb179beaac4002f036b9467c963"
  },
  "kernelspec": {
   "display_name": "Python 3.9.7 64-bit",
   "name": "python3"
  },
  "language_info": {
   "name": "python",
   "version": "3.9.7"
  },
  "orig_nbformat": 4
 },
 "nbformat": 4,
 "nbformat_minor": 2
}
